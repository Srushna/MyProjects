{
 "cells": [
  {
   "cell_type": "code",
   "execution_count": null,
   "id": "28dd2137",
   "metadata": {},
   "outputs": [],
   "source": [
    "import pandas as pd\n",
    "import seaborn as sns\n",
    "import numpy as np\n",
    "import matplotlib.pyplot as plt\n",
    "import os"
   ]
  },
  {
   "cell_type": "markdown",
   "id": "1a38f12e",
   "metadata": {},
   "source": [
    "Load DATA "
   ]
  },
  {
   "cell_type": "code",
   "execution_count": null,
   "id": "8c23911b",
   "metadata": {},
   "outputs": [],
   "source": [
    "uber_14aprl= pd.read_csv(r'E:\\Srushna_Projects\\uber-pickups-in-new-york-city/uber-raw-data-apr14.csv',encoding='utf-8')"
   ]
  },
  {
   "cell_type": "code",
   "execution_count": null,
   "id": "8c7d1449",
   "metadata": {
    "scrolled": true
   },
   "outputs": [],
   "source": [
    "files=os.listdir(r'E:\\Srushna_Projects\\uber-pickups-in-new-york-city')[-7:]\n",
    "files"
   ]
  },
  {
   "cell_type": "code",
   "execution_count": null,
   "id": "af1c0a9d",
   "metadata": {},
   "outputs": [],
   "source": [
    "files.remove('uber-raw-data-janjune-15.csv')"
   ]
  },
  {
   "cell_type": "code",
   "execution_count": null,
   "id": "55e1b7ac",
   "metadata": {
    "scrolled": true
   },
   "outputs": [],
   "source": [
    "files"
   ]
  },
  {
   "cell_type": "code",
   "execution_count": null,
   "id": "5c67d796",
   "metadata": {},
   "outputs": [],
   "source": [
    "path=r'E:\\Srushna_Projects\\uber-pickups-in-new-york-city'\n",
    "\n",
    "#blank dataframe\n",
    "final=pd.DataFrame()\n",
    "\n",
    "for file in files:\n",
    "    df=pd.read_csv(path+\"/\"+file,encoding='utf-8')\n",
    "    final=pd.concat([df,final])"
   ]
  },
  {
   "cell_type": "code",
   "execution_count": null,
   "id": "e53d7479",
   "metadata": {},
   "outputs": [],
   "source": [
    "final.shape"
   ]
  },
  {
   "cell_type": "markdown",
   "id": "8bbd003d",
   "metadata": {},
   "source": [
    "Preparing DATA"
   ]
  },
  {
   "cell_type": "markdown",
   "id": "ad391c1c",
   "metadata": {},
   "source": [
    "Lat : latitude pickup  \n",
    "Lon : longitude pickup\n",
    "Base : The TLC base company code affiliated with the Uber pickup"
   ]
  },
  {
   "cell_type": "code",
   "execution_count": null,
   "id": "55c2cabd",
   "metadata": {},
   "outputs": [],
   "source": [
    "df=final.copy()"
   ]
  },
  {
   "cell_type": "code",
   "execution_count": null,
   "id": "04bf3c57",
   "metadata": {},
   "outputs": [],
   "source": [
    "df.head()"
   ]
  },
  {
   "cell_type": "code",
   "execution_count": null,
   "id": "63fa5275",
   "metadata": {},
   "outputs": [],
   "source": [
    "df.shape"
   ]
  },
  {
   "cell_type": "code",
   "execution_count": null,
   "id": "1411298e",
   "metadata": {},
   "outputs": [],
   "source": [
    "df.dtypes"
   ]
  },
  {
   "cell_type": "code",
   "execution_count": null,
   "id": "4c51c2bd",
   "metadata": {},
   "outputs": [],
   "source": [
    "\n",
    "df['Date/Time'] = pd.to_datetime(df['Date/Time'], format=\"%m/%d/%Y %H:%M:%S\")"
   ]
  },
  {
   "cell_type": "code",
   "execution_count": null,
   "id": "4e22a498",
   "metadata": {},
   "outputs": [],
   "source": [
    "df.dtypes"
   ]
  },
  {
   "cell_type": "code",
   "execution_count": null,
   "id": "ab41b013",
   "metadata": {},
   "outputs": [],
   "source": [
    "\n",
    "df['weekday']=df['Date/Time'].dt.day_name()\n",
    "df['day']=df['Date/Time'].dt.day\n",
    "df['minute']=df['Date/Time'].dt.minute\n",
    "df['month']=df['Date/Time'].dt.month\n",
    "df['hour']=df['Date/Time'].dt.hour"
   ]
  },
  {
   "cell_type": "code",
   "execution_count": null,
   "id": "f4bac95b",
   "metadata": {},
   "outputs": [],
   "source": [
    "df.dtypes"
   ]
  },
  {
   "cell_type": "code",
   "execution_count": null,
   "id": "4a1c2c70",
   "metadata": {},
   "outputs": [],
   "source": []
  },
  {
   "cell_type": "code",
   "execution_count": null,
   "id": "ef190f99",
   "metadata": {},
   "outputs": [],
   "source": [
    "df.head()"
   ]
  },
  {
   "cell_type": "code",
   "execution_count": null,
   "id": "0d0772b4",
   "metadata": {},
   "outputs": [],
   "source": [
    "df['Base'].unique()"
   ]
  },
  {
   "cell_type": "code",
   "execution_count": null,
   "id": "b3b2ac14",
   "metadata": {},
   "outputs": [],
   "source": [
    "df['day'].unique()"
   ]
  },
  {
   "cell_type": "code",
   "execution_count": null,
   "id": "7ab8619b",
   "metadata": {},
   "outputs": [],
   "source": [
    "df['weekday'].unique()"
   ]
  },
  {
   "cell_type": "markdown",
   "id": "f0542e25",
   "metadata": {},
   "source": [
    "### Weekdays journey Analysis"
   ]
  },
  {
   "cell_type": "code",
   "execution_count": null,
   "id": "4ced76fe",
   "metadata": {},
   "outputs": [],
   "source": [
    "import plotly.express as px"
   ]
  },
  {
   "cell_type": "code",
   "execution_count": null,
   "id": "4dea9e95",
   "metadata": {},
   "outputs": [],
   "source": [
    "px.bar(x=df['weekday'].value_counts().index,\n",
    "      y=df['weekday'].value_counts().values\n",
    "      )"
   ]
  },
  {
   "cell_type": "markdown",
   "id": "f1656092",
   "metadata": {},
   "source": [
    "seems like Thursday have highest sales"
   ]
  },
  {
   "cell_type": "markdown",
   "id": "6ab61e1a",
   "metadata": {},
   "source": [
    "### Hourly Analysis"
   ]
  },
  {
   "cell_type": "code",
   "execution_count": null,
   "id": "9523c218",
   "metadata": {},
   "outputs": [],
   "source": [
    "plt.hist(df['hour'])"
   ]
  },
  {
   "cell_type": "code",
   "execution_count": null,
   "id": "527da6c6",
   "metadata": {},
   "outputs": [],
   "source": []
  },
  {
   "cell_type": "markdown",
   "id": "369319aa",
   "metadata": {},
   "source": [
    "seems It peaks in evening when people are logging off from work"
   ]
  },
  {
   "cell_type": "code",
   "execution_count": null,
   "id": "9cc3e5a0",
   "metadata": {},
   "outputs": [],
   "source": [
    "for i,month in enumerate(df['month'].unique()):\n",
    "    print(month)"
   ]
  },
  {
   "cell_type": "code",
   "execution_count": null,
   "id": "138c7bac",
   "metadata": {},
   "outputs": [],
   "source": [
    "\n",
    "plt.figure(figsize=(40,20))\n",
    "for i,month in enumerate(df['month'].unique()):\n",
    "    plt.subplot(3,2,i+1)\n",
    "    df[df['month']==month]['hour'].hist()\n"
   ]
  },
  {
   "cell_type": "code",
   "execution_count": null,
   "id": "dfa82074",
   "metadata": {},
   "outputs": [],
   "source": []
  },
  {
   "cell_type": "markdown",
   "id": "a85305b6",
   "metadata": {},
   "source": [
    "####  Rush of each hour in each month Analysis"
   ]
  },
  {
   "cell_type": "code",
   "execution_count": null,
   "id": "03b4519d",
   "metadata": {},
   "outputs": [],
   "source": [
    "for i in df['month'].unique():\n",
    "    plt.figure(figsize=(5,3))\n",
    "    df[df['month']==i]['hour'].hist()\n",
    "    "
   ]
  },
  {
   "cell_type": "markdown",
   "id": "72671ca3",
   "metadata": {},
   "source": [
    "#### Which month has max rides Analysis "
   ]
  },
  {
   "cell_type": "code",
   "execution_count": null,
   "id": "83f0d87c",
   "metadata": {},
   "outputs": [],
   "source": [
    "import chart_studio.plotly as py\n",
    "import plotly.graph_objs as go\n",
    "from plotly.offline import download_plotlyjs, init_notebook_mode, plot, iplot"
   ]
  },
  {
   "cell_type": "code",
   "execution_count": null,
   "id": "bf8c3499",
   "metadata": {},
   "outputs": [],
   "source": [
    "trace1 = go.Bar( \n",
    "        x = df.groupby('month')['hour'].sum().index,\n",
    "        y = df.groupby('month')['hour'].sum(),\n",
    "        name= 'Priority')\n",
    "iplot([trace1])"
   ]
  },
  {
   "cell_type": "markdown",
   "id": "fa69b46f",
   "metadata": {},
   "source": [
    "### Each Day Journey Analysis"
   ]
  },
  {
   "cell_type": "code",
   "execution_count": null,
   "id": "1cf29eb5",
   "metadata": {},
   "outputs": [],
   "source": [
    "plt.figure(figsize=(10,6))\n",
    "plt.hist(df['day'], bins=30, rwidth=.8, range=(0.5, 30.5))\n",
    "plt.xlabel('date of the month')\n",
    "plt.ylabel('Total Journeys')\n",
    "plt.title('Journeys by Month Day')"
   ]
  },
  {
   "cell_type": "markdown",
   "id": "6f149361",
   "metadata": {},
   "source": [
    "#### Analysis of Total rides month wise\n"
   ]
  },
  {
   "cell_type": "code",
   "execution_count": null,
   "id": "a8171783",
   "metadata": {},
   "outputs": [],
   "source": [
    "plt.figure(figsize=(20,8))\n",
    "for i,month in enumerate(df['month'].unique(),1):\n",
    "    plt.subplot(3,2,i)\n",
    "    df_out=df[df['month']==month]\n",
    "    plt.hist(df_out['day'])\n",
    "    plt.xlabel('days in month'.format(i))\n",
    "    plt.ylabel('total rides')"
   ]
  },
  {
   "cell_type": "code",
   "execution_count": null,
   "id": "9e0a3458",
   "metadata": {},
   "outputs": [],
   "source": []
  },
  {
   "cell_type": "markdown",
   "id": "9ff698f2",
   "metadata": {},
   "source": [
    "### Getting Rush in hour \n"
   ]
  },
  {
   "cell_type": "code",
   "execution_count": null,
   "id": "b06222b4",
   "metadata": {},
   "outputs": [],
   "source": [
    "sns.set_style(style='whitegrid')\n",
    "sns.pointplot(x=\"hour\",y=\"Lat\",data=df)"
   ]
  },
  {
   "cell_type": "markdown",
   "id": "6c7f0a16",
   "metadata": {},
   "source": [
    "##### Adding hue params"
   ]
  },
  {
   "cell_type": "code",
   "execution_count": null,
   "id": "f9c5b96a",
   "metadata": {},
   "outputs": [],
   "source": [
    "ax=sns.pointplot(x=\"hour\",y=\"Lat\", hue=\"weekday\",data=df)\n",
    "ax.set_title('hoursoffday vs latiitide of passenger')"
   ]
  },
  {
   "cell_type": "markdown",
   "id": "c57c53cf",
   "metadata": {},
   "source": [
    "#### To analyse which base number gets popular by month name\n"
   ]
  },
  {
   "cell_type": "code",
   "execution_count": null,
   "id": "61ff40b9",
   "metadata": {},
   "outputs": [],
   "source": [
    "df.head()"
   ]
  },
  {
   "cell_type": "code",
   "execution_count": null,
   "id": "2ac1f42c",
   "metadata": {},
   "outputs": [],
   "source": [
    "df['Base'].head()"
   ]
  },
  {
   "cell_type": "code",
   "execution_count": null,
   "id": "8885dd40",
   "metadata": {},
   "outputs": [],
   "source": [
    "df.groupby(['Base','month'])['Date/Time'].count()"
   ]
  },
  {
   "cell_type": "code",
   "execution_count": null,
   "id": "2d5badaa",
   "metadata": {},
   "outputs": [],
   "source": [
    "base=df.groupby(['Base','month'])['Date/Time'].count().reset_index()\n",
    "base"
   ]
  },
  {
   "cell_type": "markdown",
   "id": "c7932f25",
   "metadata": {},
   "source": [
    "#### To analyse which base number gets popular by month name"
   ]
  },
  {
   "cell_type": "code",
   "execution_count": null,
   "id": "9abb15e8",
   "metadata": {},
   "outputs": [],
   "source": [
    "plt.figure(figsize=(10,6))\n",
    "sns.lineplot(x='month',y='Date/Time',hue='Base',data=base)"
   ]
  },
  {
   "cell_type": "markdown",
   "id": "6ebec597",
   "metadata": {},
   "source": [
    "## 2 Cross Analysis\n",
    "Through our exploration we are going to visualize:\n"
   ]
  },
  {
   "cell_type": "markdown",
   "id": "e7211402",
   "metadata": {},
   "source": [
    "## Heatmap by Hour and Weekday."
   ]
  },
  {
   "cell_type": "code",
   "execution_count": null,
   "id": "488f49d4",
   "metadata": {},
   "outputs": [],
   "source": [
    "def count_rows(rows):\n",
    "    return len(rows)"
   ]
  },
  {
   "cell_type": "code",
   "execution_count": null,
   "id": "ed9f3ef1",
   "metadata": {},
   "outputs": [],
   "source": [
    "by_cross = df.groupby(['weekday','hour']).apply(count_rows)\n",
    "by_cross"
   ]
  },
  {
   "cell_type": "code",
   "execution_count": null,
   "id": "102a5380",
   "metadata": {},
   "outputs": [],
   "source": [
    "pivot=by_cross.unstack()\n",
    "pivot"
   ]
  },
  {
   "cell_type": "markdown",
   "id": "933ddf22",
   "metadata": {},
   "source": [
    "#####  To visualize easily creating heatmap"
   ]
  },
  {
   "cell_type": "code",
   "execution_count": null,
   "id": "555aa490",
   "metadata": {},
   "outputs": [],
   "source": [
    "plt.figure(figsize=(10,6))\n",
    "sns.heatmap(pivot, annot=False)"
   ]
  },
  {
   "cell_type": "code",
   "execution_count": null,
   "id": "41d337ad",
   "metadata": {},
   "outputs": [],
   "source": [
    "df.head()"
   ]
  },
  {
   "cell_type": "code",
   "execution_count": null,
   "id": "453a53b4",
   "metadata": {},
   "outputs": [],
   "source": [
    "def heatmap(col1,col2):\n",
    "    by_cross = df.groupby([col1,col2]).apply(lambda x:len(x))\n",
    "    pivot=by_cross.unstack()\n",
    "    plt.figure(figsize=(10,6))\n",
    "    return sns.heatmap(pivot,annot=False)"
   ]
  },
  {
   "cell_type": "code",
   "execution_count": null,
   "id": "61279cd7",
   "metadata": {},
   "outputs": [],
   "source": [
    "## validating above Analysis through Heatmap\n",
    "heatmap('day','hour')"
   ]
  },
  {
   "cell_type": "code",
   "execution_count": null,
   "id": "61d1e5f9",
   "metadata": {},
   "outputs": [],
   "source": [
    "heatmap('day','month')"
   ]
  },
  {
   "cell_type": "markdown",
   "id": "6ec00d3b",
   "metadata": {},
   "source": [
    "### Analysing the results\n",
    "\n",
    "We observe that the number of trips increases each month, we can say that from April to September 2014, Uber was in a continuous improvement process.¶"
   ]
  },
  {
   "cell_type": "code",
   "execution_count": null,
   "id": "0a92cfab",
   "metadata": {},
   "outputs": [],
   "source": [
    "df[df['month']==4]"
   ]
  },
  {
   "cell_type": "code",
   "execution_count": null,
   "id": "dc730b57",
   "metadata": {},
   "outputs": [],
   "source": [
    "heatmap('weekday','month')"
   ]
  },
  {
   "cell_type": "markdown",
   "id": "9cd6b171",
   "metadata": {},
   "source": [
    "#### Analysis of Location data points¶\n"
   ]
  },
  {
   "cell_type": "code",
   "execution_count": null,
   "id": "1f2ee74c",
   "metadata": {},
   "outputs": [],
   "source": [
    "plt.figure(figsize=(10,6))\n",
    "\n",
    "plt.plot(df['Lon'], df['Lat'],'r+', ms=0.5)\n",
    "plt.xlim(-74.2, -73.7)\n",
    "plt.ylim(40.6,41)"
   ]
  },
  {
   "cell_type": "markdown",
   "id": "ce653a02",
   "metadata": {},
   "source": [
    "##### We can see a number of hot spots here. Midtown Manhattan is clearly a huge bright spot.\n",
    "##### & these are made from Midtown to Lower Manhattan.\n",
    "##### Followed by Upper Manhattan and the Heights of Brooklyn.\n"
   ]
  },
  {
   "cell_type": "markdown",
   "id": "1501ceb1",
   "metadata": {},
   "source": [
    "### Spatial Analysis using heatmap to get a clear cut of Rush on Sunday(Weekend)\n"
   ]
  },
  {
   "cell_type": "code",
   "execution_count": null,
   "id": "1b6469e2",
   "metadata": {},
   "outputs": [],
   "source": [
    "df.head()"
   ]
  },
  {
   "cell_type": "code",
   "execution_count": null,
   "id": "1bd0ef7d",
   "metadata": {},
   "outputs": [],
   "source": [
    "df_out=df[df['weekday']=='Sunday']\n",
    "df_out.head()"
   ]
  },
  {
   "cell_type": "code",
   "execution_count": null,
   "id": "df7895e5",
   "metadata": {},
   "outputs": [],
   "source": [
    "df_out.groupby(['Lat','Lon'])['weekday'].count().reset_index()"
   ]
  },
  {
   "cell_type": "code",
   "execution_count": null,
   "id": "94c76ca0",
   "metadata": {},
   "outputs": [],
   "source": [
    "from folium.plugins import HeatMap"
   ]
  },
  {
   "cell_type": "code",
   "execution_count": null,
   "id": "0e890851",
   "metadata": {},
   "outputs": [],
   "source": [
    "import folium\n",
    "from folium.plugins import HeatMap\n",
    "basemap=folium.Map()"
   ]
  },
  {
   "cell_type": "code",
   "execution_count": null,
   "id": "28d717b0",
   "metadata": {},
   "outputs": [],
   "source": [
    "HeatMap(df_out.groupby(['Lat','Lon'])['weekday'].count().reset_index(),zoom=20,radius=15).add_to(basemap)\n",
    "basemap"
   ]
  },
  {
   "cell_type": "markdown",
   "id": "5185b36d",
   "metadata": {},
   "source": [
    "##### Lets create a function for a specific day"
   ]
  },
  {
   "cell_type": "code",
   "execution_count": null,
   "id": "908c4ba3",
   "metadata": {},
   "outputs": [],
   "source": [
    "def plot(df,day):\n",
    "    df_out=df[df['weekday']==day]\n",
    "    df_out.groupby(['Lat','Lon'])['weekday'].count().reset_index()\n",
    "    HeatMap(df_out.groupby(['Lat','Lon'])['weekday'].count().reset_index(),zoom=20,radius=15).add_to(basemap)\n",
    "    return basemap\n"
   ]
  },
  {
   "cell_type": "code",
   "execution_count": null,
   "id": "6245e555",
   "metadata": {},
   "outputs": [],
   "source": [
    "plot(df,'Sunday')"
   ]
  },
  {
   "cell_type": "code",
   "execution_count": null,
   "id": "234da563",
   "metadata": {},
   "outputs": [],
   "source": []
  },
  {
   "cell_type": "code",
   "execution_count": null,
   "id": "a290646b",
   "metadata": {},
   "outputs": [],
   "source": []
  },
  {
   "cell_type": "code",
   "execution_count": null,
   "id": "f571b167",
   "metadata": {},
   "outputs": [],
   "source": [
    "uber_15 = pd.read_csv(r'E:\\Srushna_Projects\\uber-pickups-in-new-york-city/uber-raw-data-janjune-15.csv',encoding='utf-8')\n",
    "uber_15.head()"
   ]
  },
  {
   "cell_type": "code",
   "execution_count": null,
   "id": "a7972f16",
   "metadata": {},
   "outputs": [],
   "source": [
    "uber_15.shape"
   ]
  },
  {
   "cell_type": "code",
   "execution_count": null,
   "id": "38b86102",
   "metadata": {},
   "outputs": [],
   "source": []
  },
  {
   "cell_type": "code",
   "execution_count": null,
   "id": "52179ce3",
   "metadata": {},
   "outputs": [],
   "source": [
    "#Checking the minimum date in the uber_15\n",
    "uber_15['Pickup_date'].min()"
   ]
  },
  {
   "cell_type": "code",
   "execution_count": null,
   "id": "84ef0069",
   "metadata": {},
   "outputs": [],
   "source": [
    "#Checking the maximum date in the uber_15\n",
    "uber_15['Pickup_date'].max()"
   ]
  },
  {
   "cell_type": "code",
   "execution_count": null,
   "id": "e8967fd5",
   "metadata": {},
   "outputs": [],
   "source": [
    "uber_15['Pickup_date'] =  pd.to_datetime(uber_15['Pickup_date'], format='%Y-%m-%d %H:%M:%S')"
   ]
  },
  {
   "cell_type": "code",
   "execution_count": null,
   "id": "bb72686b",
   "metadata": {},
   "outputs": [],
   "source": [
    "\n",
    "uber_15['weekday']=uber_15['Pickup_date'].dt.day_name()\n",
    "uber_15['day']=uber_15['Pickup_date'].dt.day\n",
    "uber_15['minute']=uber_15['Pickup_date'].dt.minute\n",
    "uber_15['month']=uber_15['Pickup_date'].dt.month\n",
    "uber_15['hour']=uber_15['Pickup_date'].dt.hour"
   ]
  },
  {
   "cell_type": "code",
   "execution_count": null,
   "id": "ab8e2b85",
   "metadata": {},
   "outputs": [],
   "source": [
    "uber_15.head()"
   ]
  },
  {
   "cell_type": "markdown",
   "id": "df81c5b6",
   "metadata": {},
   "source": [
    "##### Uber pickups by the month in NYC\n"
   ]
  },
  {
   "cell_type": "code",
   "execution_count": null,
   "id": "fc15c4d4",
   "metadata": {},
   "outputs": [],
   "source": [
    "px.bar(x=uber_15['month'].value_counts().index,\n",
    "           y=uber_15['month'].value_counts().values)"
   ]
  },
  {
   "cell_type": "markdown",
   "id": "ce4edf2c",
   "metadata": {},
   "source": []
  },
  {
   "cell_type": "markdown",
   "id": "572c260f",
   "metadata": {},
   "source": [
    "#### Analysing Rush in New york City"
   ]
  },
  {
   "cell_type": "code",
   "execution_count": null,
   "id": "bb9b851a",
   "metadata": {},
   "outputs": [],
   "source": [
    "ax=sns.countplot(uber_15['hour'])\n",
    "ax.yaxis.set_major_formatter(tick.FormatStrFormatter('%.0f'))"
   ]
  },
  {
   "cell_type": "markdown",
   "id": "325f428e",
   "metadata": {},
   "source": [
    "##### Interestingly, after the morning rush, the number of Uber pickups doesn't dip much throughout the rest of the morning and early afternoon. There is significantly more demand in the evening than the daytime. Let's investigate to see if there's a difference in hourly pattern for different days of the week."
   ]
  },
  {
   "cell_type": "markdown",
   "id": "2d1eced1",
   "metadata": {},
   "source": [
    "### Analysing In-Depth Analysis of Rush in New york City Day & hour wise\n"
   ]
  },
  {
   "cell_type": "markdown",
   "id": "43e6cff4",
   "metadata": {},
   "source": [
    "##### Group the data by Weekday and hour"
   ]
  },
  {
   "cell_type": "code",
   "execution_count": null,
   "id": "2e63f051",
   "metadata": {},
   "outputs": [],
   "source": [
    "uber_15.groupby(['weekday', 'hour'])['Pickup_date'].count()"
   ]
  },
  {
   "cell_type": "code",
   "execution_count": null,
   "id": "c60755ae",
   "metadata": {},
   "outputs": [],
   "source": [
    "uber_15.groupby(['weekday', 'hour'])['Pickup_date'].count().reset_index()"
   ]
  },
  {
   "cell_type": "code",
   "execution_count": null,
   "id": "02948dcf",
   "metadata": {},
   "outputs": [],
   "source": [
    "summary=uber_15.groupby(['weekday', 'hour'])['Pickup_date'].count().reset_index()"
   ]
  },
  {
   "cell_type": "code",
   "execution_count": null,
   "id": "0b691e57",
   "metadata": {},
   "outputs": [],
   "source": [
    "summary=summary.rename(columns = {'Pickup_date':'Counts'})\n",
    "summary"
   ]
  },
  {
   "cell_type": "code",
   "execution_count": null,
   "id": "e1463166",
   "metadata": {},
   "outputs": [],
   "source": [
    "plt.figure(figsize=(10,6))\n",
    "sns.pointplot(x=\"hour\", y=\"Counts\", hue=\"weekday\", data=summary)"
   ]
  },
  {
   "cell_type": "code",
   "execution_count": null,
   "id": "4a4798f7",
   "metadata": {},
   "outputs": [],
   "source": []
  },
  {
   "cell_type": "code",
   "execution_count": null,
   "id": "c4f93d9c",
   "metadata": {},
   "outputs": [],
   "source": [
    "uber_foil=pd.read_csv(r'E:\\Srushna_Projects\\uber-pickups-in-new-york-city/Uber-Jan-Feb-FOIL.csv')"
   ]
  },
  {
   "cell_type": "code",
   "execution_count": null,
   "id": "642a50c8",
   "metadata": {},
   "outputs": [],
   "source": [
    "uber_foil.head()"
   ]
  },
  {
   "cell_type": "code",
   "execution_count": null,
   "id": "4982efc9",
   "metadata": {},
   "outputs": [],
   "source": [
    "uber_foil['dispatching_base_number'].unique()"
   ]
  },
  {
   "cell_type": "code",
   "execution_count": null,
   "id": "a9c533f8",
   "metadata": {},
   "outputs": [],
   "source": [
    "sns.boxplot(x = 'dispatching_base_number', y = 'active_vehicles', data = uber_foil)"
   ]
  },
  {
   "cell_type": "code",
   "execution_count": null,
   "id": "580c1a59",
   "metadata": {},
   "outputs": [],
   "source": []
  },
  {
   "cell_type": "code",
   "execution_count": null,
   "id": "4ee0f78e",
   "metadata": {},
   "outputs": [],
   "source": [
    "sns.boxplot(x = 'dispatching_base_number', y = 'trips', data = uber_foil)"
   ]
  },
  {
   "cell_type": "code",
   "execution_count": null,
   "id": "0e359f55",
   "metadata": {},
   "outputs": [],
   "source": []
  },
  {
   "cell_type": "code",
   "execution_count": null,
   "id": "9b91026c",
   "metadata": {},
   "outputs": [],
   "source": [
    "# Finding the ratio of trips/active_vehicles\n",
    "uber_foil['trips/vehicle'] = uber_foil['trips']/uber_foil['active_vehicles']"
   ]
  },
  {
   "cell_type": "code",
   "execution_count": null,
   "id": "74180be2",
   "metadata": {},
   "outputs": [],
   "source": [
    "uber_foil.head()"
   ]
  },
  {
   "cell_type": "code",
   "execution_count": null,
   "id": "45857600",
   "metadata": {},
   "outputs": [],
   "source": [
    "uber_foil.set_index('date')"
   ]
  },
  {
   "cell_type": "markdown",
   "id": "7819d835",
   "metadata": {},
   "source": [
    "##### how Average trips/vehicle inc/decreases with dates with each of base umber"
   ]
  },
  {
   "cell_type": "code",
   "execution_count": null,
   "id": "2767fe31",
   "metadata": {},
   "outputs": [],
   "source": [
    "plt.figure(figsize=(10,6))\n",
    "uber_foil.set_index('date').groupby(['dispatching_base_number'])['trips/vehicle'].plot()\n",
    "plt.ylabel('Average trips/vehicle')\n",
    "plt.title('Demand vs Supply chart (Date-wise)')\n",
    "plt.legend()"
   ]
  },
  {
   "cell_type": "code",
   "execution_count": null,
   "id": "6d5e243e",
   "metadata": {},
   "outputs": [],
   "source": []
  },
  {
   "cell_type": "code",
   "execution_count": null,
   "id": "8389b260",
   "metadata": {},
   "outputs": [],
   "source": []
  }
 ],
 "metadata": {
  "kernelspec": {
   "display_name": "Python 3",
   "language": "python",
   "name": "python3"
  },
  "language_info": {
   "codemirror_mode": {
    "name": "ipython",
    "version": 3
   },
   "file_extension": ".py",
   "mimetype": "text/x-python",
   "name": "python",
   "nbconvert_exporter": "python",
   "pygments_lexer": "ipython3",
   "version": "3.8.8"
  }
 },
 "nbformat": 4,
 "nbformat_minor": 5
}
